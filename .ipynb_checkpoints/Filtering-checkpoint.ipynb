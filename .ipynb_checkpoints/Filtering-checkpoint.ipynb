{
 "cells": [
  {
   "cell_type": "code",
   "execution_count": 35,
   "id": "6085540a-6e6c-4fb6-96fb-fe93a9f4cba4",
   "metadata": {},
   "outputs": [],
   "source": [
    "#from __future__ import division\n",
    "import pandas as pd\n",
    "from datetime import datetime\n",
    "import matplotlib.pyplot as plt"
   ]
  },
  {
   "cell_type": "code",
   "execution_count": 36,
   "id": "bd22f3c8-d3c1-4a27-abd4-0de7e698dfb7",
   "metadata": {},
   "outputs": [],
   "source": [
    "df=pd.read_csv('./Geolife-beijing_completed.csv')"
   ]
  },
  {
   "cell_type": "code",
   "execution_count": 37,
   "id": "db492400-51fb-4d7d-8b40-ab7238eeb482",
   "metadata": {},
   "outputs": [
    {
     "data": {
      "text/html": [
       "<div>\n",
       "<style scoped>\n",
       "    .dataframe tbody tr th:only-of-type {\n",
       "        vertical-align: middle;\n",
       "    }\n",
       "\n",
       "    .dataframe tbody tr th {\n",
       "        vertical-align: top;\n",
       "    }\n",
       "\n",
       "    .dataframe thead th {\n",
       "        text-align: right;\n",
       "    }\n",
       "</style>\n",
       "<table border=\"1\" class=\"dataframe\">\n",
       "  <thead>\n",
       "    <tr style=\"text-align: right;\">\n",
       "      <th></th>\n",
       "      <th>dev_id</th>\n",
       "      <th>date</th>\n",
       "      <th>lat</th>\n",
       "      <th>lon</th>\n",
       "      <th>geohash</th>\n",
       "      <th>geohash_1</th>\n",
       "      <th>geohash_2</th>\n",
       "      <th>geohash_3</th>\n",
       "      <th>geohash_4</th>\n",
       "      <th>geohash_5</th>\n",
       "      <th>geohash_6</th>\n",
       "    </tr>\n",
       "  </thead>\n",
       "  <tbody>\n",
       "    <tr>\n",
       "      <th>0</th>\n",
       "      <td>0</td>\n",
       "      <td>2008-10-23 02:50:00</td>\n",
       "      <td>39.984561</td>\n",
       "      <td>116.316527</td>\n",
       "      <td>386+302</td>\n",
       "      <td>193+151</td>\n",
       "      <td>129+101</td>\n",
       "      <td>97+76</td>\n",
       "      <td>77+61</td>\n",
       "      <td>39+30</td>\n",
       "      <td>19+15</td>\n",
       "    </tr>\n",
       "    <tr>\n",
       "      <th>1</th>\n",
       "      <td>0</td>\n",
       "      <td>2008-10-23 02:55:00</td>\n",
       "      <td>39.984456</td>\n",
       "      <td>116.306047</td>\n",
       "      <td>382+302</td>\n",
       "      <td>191+151</td>\n",
       "      <td>128+101</td>\n",
       "      <td>96+76</td>\n",
       "      <td>77+61</td>\n",
       "      <td>38+30</td>\n",
       "      <td>19+15</td>\n",
       "    </tr>\n",
       "    <tr>\n",
       "      <th>2</th>\n",
       "      <td>0</td>\n",
       "      <td>2008-10-23 03:00:00</td>\n",
       "      <td>39.983590</td>\n",
       "      <td>116.298869</td>\n",
       "      <td>379+302</td>\n",
       "      <td>189+151</td>\n",
       "      <td>127+101</td>\n",
       "      <td>95+76</td>\n",
       "      <td>76+61</td>\n",
       "      <td>38+30</td>\n",
       "      <td>19+15</td>\n",
       "    </tr>\n",
       "    <tr>\n",
       "      <th>3</th>\n",
       "      <td>0</td>\n",
       "      <td>2008-10-23 03:05:00</td>\n",
       "      <td>39.951650</td>\n",
       "      <td>116.800131</td>\n",
       "      <td>594+284</td>\n",
       "      <td>297+142</td>\n",
       "      <td>198+95</td>\n",
       "      <td>149+71</td>\n",
       "      <td>119+57</td>\n",
       "      <td>59+29</td>\n",
       "      <td>30+14</td>\n",
       "    </tr>\n",
       "    <tr>\n",
       "      <th>4</th>\n",
       "      <td>0</td>\n",
       "      <td>2008-10-23 03:10:00</td>\n",
       "      <td>39.951650</td>\n",
       "      <td>116.800131</td>\n",
       "      <td>594+284</td>\n",
       "      <td>297+142</td>\n",
       "      <td>198+95</td>\n",
       "      <td>149+71</td>\n",
       "      <td>119+57</td>\n",
       "      <td>59+29</td>\n",
       "      <td>30+14</td>\n",
       "    </tr>\n",
       "  </tbody>\n",
       "</table>\n",
       "</div>"
      ],
      "text/plain": [
       "   dev_id                 date        lat         lon  geohash geohash_1  \\\n",
       "0       0  2008-10-23 02:50:00  39.984561  116.316527  386+302   193+151   \n",
       "1       0  2008-10-23 02:55:00  39.984456  116.306047  382+302   191+151   \n",
       "2       0  2008-10-23 03:00:00  39.983590  116.298869  379+302   189+151   \n",
       "3       0  2008-10-23 03:05:00  39.951650  116.800131  594+284   297+142   \n",
       "4       0  2008-10-23 03:10:00  39.951650  116.800131  594+284   297+142   \n",
       "\n",
       "  geohash_2 geohash_3 geohash_4 geohash_5 geohash_6  \n",
       "0   129+101     97+76     77+61     39+30     19+15  \n",
       "1   128+101     96+76     77+61     38+30     19+15  \n",
       "2   127+101     95+76     76+61     38+30     19+15  \n",
       "3    198+95    149+71    119+57     59+29     30+14  \n",
       "4    198+95    149+71    119+57     59+29     30+14  "
      ]
     },
     "execution_count": 37,
     "metadata": {},
     "output_type": "execute_result"
    }
   ],
   "source": [
    "df.head()"
   ]
  },
  {
   "cell_type": "code",
   "execution_count": 38,
   "id": "faa7c5eb-dafd-4c37-ac73-da1959125bb4",
   "metadata": {},
   "outputs": [],
   "source": [
    "df1=df.set_index('dev_id')\n",
    "list_usr=df1.index\n",
    "list_usr=list_usr.drop_duplicates()"
   ]
  },
  {
   "cell_type": "code",
   "execution_count": 39,
   "id": "4f6d1d43-edcb-4eeb-9bbc-0272b999160c",
   "metadata": {},
   "outputs": [],
   "source": [
    "list_usr_f=[]\n",
    "\n",
    "# Selecting individuals having at least 8064 records\n",
    "for i in list_usr:\n",
    "    if len(df1.loc[i])>=8064:\n",
    "        list_usr_f.append(i)\n",
    "    "
   ]
  },
  {
   "cell_type": "code",
   "execution_count": 40,
   "id": "594618d8-3e03-49b1-b1f5-f73d7f9f3244",
   "metadata": {},
   "outputs": [],
   "source": [
    "list_usr=list_usr_f"
   ]
  },
  {
   "cell_type": "code",
   "execution_count": 41,
   "id": "da801426-afb9-4919-a380-265eb6fdde88",
   "metadata": {},
   "outputs": [
    {
     "data": {
      "text/plain": [
       "99"
      ]
     },
     "execution_count": 41,
     "metadata": {},
     "output_type": "execute_result"
    }
   ],
   "source": [
    "len(list_usr)"
   ]
  },
  {
   "cell_type": "code",
   "execution_count": 42,
   "id": "b974fb63-f8ce-4af9-a02d-574a5c8f3c08",
   "metadata": {},
   "outputs": [],
   "source": [
    "df1=df1[df1.index.isin(list_usr)]"
   ]
  },
  {
   "cell_type": "code",
   "execution_count": 43,
   "id": "f029c85c-681d-482b-9ba9-230dd0d5b426",
   "metadata": {},
   "outputs": [],
   "source": [
    "list_usr=df1.index\n",
    "list_usr=list_usr.drop_duplicates()"
   ]
  },
  {
   "cell_type": "code",
   "execution_count": 44,
   "id": "a74145c4-5fc3-46c8-af26-06268f3cc196",
   "metadata": {},
   "outputs": [
    {
     "data": {
      "text/plain": [
       "99"
      ]
     },
     "execution_count": 44,
     "metadata": {},
     "output_type": "execute_result"
    }
   ],
   "source": [
    "len(list_usr)"
   ]
  },
  {
   "cell_type": "code",
   "execution_count": 45,
   "id": "418acf35-2e46-4e86-9ee5-ffce51d1c12b",
   "metadata": {},
   "outputs": [],
   "source": [
    "df_final=df1#.reset_index()#drop=True, inplace=True"
   ]
  },
  {
   "cell_type": "code",
   "execution_count": 46,
   "id": "8dc76830-e83f-42e4-93e5-a8a1137bcabd",
   "metadata": {},
   "outputs": [
    {
     "data": {
      "text/html": [
       "<div>\n",
       "<style scoped>\n",
       "    .dataframe tbody tr th:only-of-type {\n",
       "        vertical-align: middle;\n",
       "    }\n",
       "\n",
       "    .dataframe tbody tr th {\n",
       "        vertical-align: top;\n",
       "    }\n",
       "\n",
       "    .dataframe thead th {\n",
       "        text-align: right;\n",
       "    }\n",
       "</style>\n",
       "<table border=\"1\" class=\"dataframe\">\n",
       "  <thead>\n",
       "    <tr style=\"text-align: right;\">\n",
       "      <th></th>\n",
       "      <th>date</th>\n",
       "      <th>lat</th>\n",
       "      <th>lon</th>\n",
       "      <th>geohash</th>\n",
       "      <th>geohash_1</th>\n",
       "      <th>geohash_2</th>\n",
       "      <th>geohash_3</th>\n",
       "      <th>geohash_4</th>\n",
       "      <th>geohash_5</th>\n",
       "      <th>geohash_6</th>\n",
       "    </tr>\n",
       "    <tr>\n",
       "      <th>dev_id</th>\n",
       "      <th></th>\n",
       "      <th></th>\n",
       "      <th></th>\n",
       "      <th></th>\n",
       "      <th></th>\n",
       "      <th></th>\n",
       "      <th></th>\n",
       "      <th></th>\n",
       "      <th></th>\n",
       "      <th></th>\n",
       "    </tr>\n",
       "  </thead>\n",
       "  <tbody>\n",
       "    <tr>\n",
       "      <th>0</th>\n",
       "      <td>2008-10-23 02:50:00</td>\n",
       "      <td>39.984561</td>\n",
       "      <td>116.316527</td>\n",
       "      <td>386+302</td>\n",
       "      <td>193+151</td>\n",
       "      <td>129+101</td>\n",
       "      <td>97+76</td>\n",
       "      <td>77+61</td>\n",
       "      <td>39+30</td>\n",
       "      <td>19+15</td>\n",
       "    </tr>\n",
       "    <tr>\n",
       "      <th>0</th>\n",
       "      <td>2008-10-23 02:55:00</td>\n",
       "      <td>39.984456</td>\n",
       "      <td>116.306047</td>\n",
       "      <td>382+302</td>\n",
       "      <td>191+151</td>\n",
       "      <td>128+101</td>\n",
       "      <td>96+76</td>\n",
       "      <td>77+61</td>\n",
       "      <td>38+30</td>\n",
       "      <td>19+15</td>\n",
       "    </tr>\n",
       "    <tr>\n",
       "      <th>0</th>\n",
       "      <td>2008-10-23 03:00:00</td>\n",
       "      <td>39.983590</td>\n",
       "      <td>116.298869</td>\n",
       "      <td>379+302</td>\n",
       "      <td>189+151</td>\n",
       "      <td>127+101</td>\n",
       "      <td>95+76</td>\n",
       "      <td>76+61</td>\n",
       "      <td>38+30</td>\n",
       "      <td>19+15</td>\n",
       "    </tr>\n",
       "    <tr>\n",
       "      <th>0</th>\n",
       "      <td>2008-10-23 03:05:00</td>\n",
       "      <td>39.951650</td>\n",
       "      <td>116.800131</td>\n",
       "      <td>594+284</td>\n",
       "      <td>297+142</td>\n",
       "      <td>198+95</td>\n",
       "      <td>149+71</td>\n",
       "      <td>119+57</td>\n",
       "      <td>59+29</td>\n",
       "      <td>30+14</td>\n",
       "    </tr>\n",
       "    <tr>\n",
       "      <th>0</th>\n",
       "      <td>2008-10-23 03:10:00</td>\n",
       "      <td>39.951650</td>\n",
       "      <td>116.800131</td>\n",
       "      <td>594+284</td>\n",
       "      <td>297+142</td>\n",
       "      <td>198+95</td>\n",
       "      <td>149+71</td>\n",
       "      <td>119+57</td>\n",
       "      <td>59+29</td>\n",
       "      <td>30+14</td>\n",
       "    </tr>\n",
       "  </tbody>\n",
       "</table>\n",
       "</div>"
      ],
      "text/plain": [
       "                       date        lat         lon  geohash geohash_1  \\\n",
       "dev_id                                                                  \n",
       "0       2008-10-23 02:50:00  39.984561  116.316527  386+302   193+151   \n",
       "0       2008-10-23 02:55:00  39.984456  116.306047  382+302   191+151   \n",
       "0       2008-10-23 03:00:00  39.983590  116.298869  379+302   189+151   \n",
       "0       2008-10-23 03:05:00  39.951650  116.800131  594+284   297+142   \n",
       "0       2008-10-23 03:10:00  39.951650  116.800131  594+284   297+142   \n",
       "\n",
       "       geohash_2 geohash_3 geohash_4 geohash_5 geohash_6  \n",
       "dev_id                                                    \n",
       "0        129+101     97+76     77+61     39+30     19+15  \n",
       "0        128+101     96+76     77+61     38+30     19+15  \n",
       "0        127+101     95+76     76+61     38+30     19+15  \n",
       "0         198+95    149+71    119+57     59+29     30+14  \n",
       "0         198+95    149+71    119+57     59+29     30+14  "
      ]
     },
     "execution_count": 46,
     "metadata": {},
     "output_type": "execute_result"
    }
   ],
   "source": [
    "df_final.head()"
   ]
  },
  {
   "cell_type": "code",
   "execution_count": 47,
   "id": "49e1c982-96f8-455d-bacf-ab1e761a138b",
   "metadata": {},
   "outputs": [],
   "source": [
    "df_final.to_csv('./Geolife-beijing_filtered.csv')"
   ]
  },
  {
   "cell_type": "code",
   "execution_count": null,
   "id": "c046e22b-c429-4fab-8ed6-97c1645923c8",
   "metadata": {},
   "outputs": [],
   "source": []
  },
  {
   "cell_type": "code",
   "execution_count": null,
   "id": "e4871be5-20ed-43f3-8160-9bfa2f8ffe0c",
   "metadata": {},
   "outputs": [],
   "source": []
  },
  {
   "cell_type": "code",
   "execution_count": null,
   "id": "ef34310a-2e0d-478c-a5e2-9dd9a1858735",
   "metadata": {},
   "outputs": [],
   "source": []
  },
  {
   "cell_type": "code",
   "execution_count": null,
   "id": "f50e6fcd-feae-4fd7-8c6c-e29079381ee4",
   "metadata": {},
   "outputs": [],
   "source": []
  },
  {
   "cell_type": "code",
   "execution_count": null,
   "id": "41d35550-f4cf-45eb-a69d-27f1088c197a",
   "metadata": {},
   "outputs": [],
   "source": []
  },
  {
   "cell_type": "code",
   "execution_count": null,
   "id": "bab29df9-2f7c-490c-8413-14441343ae95",
   "metadata": {},
   "outputs": [],
   "source": []
  },
  {
   "cell_type": "code",
   "execution_count": null,
   "id": "70e4f312-08b2-4b66-9e13-150a05d36ca9",
   "metadata": {},
   "outputs": [],
   "source": []
  },
  {
   "cell_type": "code",
   "execution_count": 33,
   "id": "dc42f35d-0306-4595-92f2-ddb68caf994a",
   "metadata": {},
   "outputs": [],
   "source": [
    "df1=df_final.set_index('dev_id')\n",
    "list_usr=df1.index\n",
    "list_usr=list_usr.drop_duplicates()"
   ]
  },
  {
   "cell_type": "code",
   "execution_count": 34,
   "id": "fee85cea-e6ca-4091-9fd8-ede0366fbdcf",
   "metadata": {},
   "outputs": [
    {
     "data": {
      "text/plain": [
       "99"
      ]
     },
     "execution_count": 34,
     "metadata": {},
     "output_type": "execute_result"
    }
   ],
   "source": [
    "len(list_usr)"
   ]
  },
  {
   "cell_type": "code",
   "execution_count": 21,
   "id": "dc305a11-797f-43c0-9243-b8e2be246abe",
   "metadata": {},
   "outputs": [
    {
     "data": {
      "text/plain": [
       "[<matplotlib.lines.Line2D at 0x7f81a2f5c8e0>]"
      ]
     },
     "execution_count": 21,
     "metadata": {},
     "output_type": "execute_result"
    },
    {
     "data": {
      "image/png": "[encoded data removed]",
      "text/plain": [
       "<Figure size 432x288 with 1 Axes>"
      ]
     },
     "metadata": {
      "needs_background": "light"
     },
     "output_type": "display_data"
    }
   ],
   "source": [
    "nb_users=[]\n",
    "\n",
    "per_day=288\n",
    "\n",
    "for j in range(1,31):\n",
    "    list_usr_f=[]\n",
    "    for i in list_usr:\n",
    "    \n",
    "        if len(df1.loc[i])>=j*per_day:\n",
    "            list_usr_f.append(i)\n",
    "            \n",
    "    nb_users.append(len(list_usr_f))\n",
    "    \n",
    "\n",
    "\n",
    "plt.xlabel(\"Number of days\", fontsize=24)\n",
    "plt.ylabel(\"Number of users\", fontsize=24)\n",
    "\n",
    "plt.plot(nb_users)\n",
    "\n"
   ]
  },
  {
   "cell_type": "code",
   "execution_count": 20,
   "id": "7653e939-9afd-4982-9191-2699984651ce",
   "metadata": {},
   "outputs": [
    {
     "data": {
      "image/png": "[encoded data removed]",
      "text/plain": [
       "<Figure size 432x288 with 1 Axes>"
      ]
     },
     "metadata": {
      "needs_background": "light"
     },
     "output_type": "display_data"
    }
   ],
   "source": [
    "ccdf_geo =  nb_users\n",
    "#c=ax.hist(ccdf_geo, bins=bins, density=True, histtype='bar',linewidth=2,cumulative=-1)\n",
    "plt.plot(nb_users,'royalblue',  label='Geolife',linewidth=2)\n",
    "\n",
    "\n",
    "#plt.plot(tab_total,'y',  label='Total',linewidth=2)\n",
    "\n",
    "\n",
    "#plt.xscale('log')\n",
    "\n",
    "plt.xlabel(\"Number of contiguous days\", fontsize=24)\n",
    "#plt.ylabel(\"Number of users\", fontsize=24)\n",
    "\n",
    "plt.legend(prop={'size': 24, 'weight':'bold'})\n",
    "\n",
    "plt.grid(color='0.95',alpha=.3)\n",
    "\n",
    "plt.xticks(fontsize=18)\n",
    "plt.yticks(fontsize=18)\n",
    "\n",
    "plt.show()\n",
    "\n",
    "\n"
   ]
  },
  {
   "cell_type": "code",
   "execution_count": null,
   "id": "abaf9479-9dc2-4a13-959a-442fdbf6826c",
   "metadata": {},
   "outputs": [],
   "source": []
  }
 ],
 "metadata": {
  "kernelspec": {
   "display_name": "Python 3",
   "language": "python",
   "name": "python3"
  },
  "language_info": {
   "codemirror_mode": {
    "name": "ipython",
    "version": 3
   },
   "file_extension": ".py",
   "mimetype": "text/x-python",
   "name": "python",
   "nbconvert_exporter": "python",
   "pygments_lexer": "ipython3",
   "version": "3.9.5"
  }
 },
 "nbformat": 4,
 "nbformat_minor": 5
}
